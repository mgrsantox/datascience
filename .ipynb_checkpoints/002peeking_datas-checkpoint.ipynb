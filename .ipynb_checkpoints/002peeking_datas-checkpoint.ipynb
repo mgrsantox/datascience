{
 "cells": [
  {
   "cell_type": "code",
   "execution_count": 4,
   "metadata": {},
   "outputs": [],
   "source": [
    "import pandas as pd\n",
    "import numpy as np"
   ]
  },
  {
   "cell_type": "code",
   "execution_count": 7,
   "metadata": {},
   "outputs": [
    {
     "data": {
      "text/plain": [
       "0     77.0\n",
       "1     78.0\n",
       "2     78.0\n",
       "3     98.0\n",
       "4     67.0\n",
       "5     87.0\n",
       "6     98.0\n",
       "7     86.0\n",
       "8     86.0\n",
       "9     90.0\n",
       "10    97.0\n",
       "11    99.0\n",
       "12    86.0\n",
       "13    87.0\n",
       "14    69.0\n",
       "15    98.0\n",
       "16     NaN\n",
       "dtype: float64"
      ]
     },
     "execution_count": 7,
     "metadata": {},
     "output_type": "execute_result"
    }
   ],
   "source": [
    "marks = pd.Series([77,78,78,98,67,87,98,86,86,90,97,99,86,87,69,98,np.nan])\n",
    "marks\n",
    "# in jupyter to get objects from upper cell u must run upper cell"
   ]
  },
  {
   "cell_type": "code",
   "execution_count": 28,
   "metadata": {},
   "outputs": [
    {
     "data": {
      "text/plain": [
       "Hinata      77.0\n",
       "Sakura      78.0\n",
       "Tenten      78.0\n",
       "Tsunade     98.0\n",
       "Mirui       67.0\n",
       "Sishui      87.0\n",
       "Madara      98.0\n",
       "Tobirama    86.0\n",
       "Hiruzen     86.0\n",
       "Nagato      90.0\n",
       "Hasirama    92.0\n",
       "Jiriya      90.0\n",
       "Itachi      86.0\n",
       "Kushina     87.0\n",
       "Sasuke      98.0\n",
       "Naruto      98.0\n",
       "Obito       91.0\n",
       "Masashi      NaN\n",
       "dtype: float64"
      ]
     },
     "execution_count": 28,
     "metadata": {},
     "output_type": "execute_result"
    }
   ],
   "source": [
    "# Give index on data\n",
    "# for index no. value = name of index\n",
    "marks = pd.Series([77,78,78,98,67,87,98,86,86,90,92,90,86,87,98,98,91,np.nan]\n",
    "                  , index = ['Hinata', 'Sakura', 'Tenten', 'Tsunade', 'Mirui',\n",
    "                             'Sishui', 'Madara', 'Tobirama', 'Hiruzen',\n",
    "                           'Nagato', 'Hasirama', 'Jiriya', 'Itachi',\n",
    "                            'Kushina', 'Sasuke', 'Naruto', 'Obito', 'Masashi'])\n",
    "marks"
   ]
  },
  {
   "cell_type": "code",
   "execution_count": 29,
   "metadata": {},
   "outputs": [
    {
     "data": {
      "text/plain": [
       "Index(['Hinata', 'Sakura', 'Tenten', 'Tsunade', 'Mirui', 'Sishui', 'Madara',\n",
       "       'Tobirama', 'Hiruzen', 'Nagato', 'Hasirama', 'Jiriya', 'Itachi',\n",
       "       'Kushina', 'Sasuke', 'Naruto', 'Obito', 'Masashi'],\n",
       "      dtype='object')"
      ]
     },
     "execution_count": 29,
     "metadata": {},
     "output_type": "execute_result"
    }
   ],
   "source": [
    "# Access index only \n",
    "marks.index\n"
   ]
  },
  {
   "cell_type": "code",
   "execution_count": 30,
   "metadata": {},
   "outputs": [
    {
     "data": {
      "text/plain": [
       "array([77., 78., 78., 98., 67., 87., 98., 86., 86., 90., 92., 90., 86.,\n",
       "       87., 98., 98., 91., nan])"
      ]
     },
     "execution_count": 30,
     "metadata": {},
     "output_type": "execute_result"
    }
   ],
   "source": [
    "# Access the values\n",
    "# in array forms\n",
    "marks.values"
   ]
  },
  {
   "cell_type": "code",
   "execution_count": 31,
   "metadata": {},
   "outputs": [
    {
     "data": {
      "text/plain": [
       "Hinata     77.0\n",
       "Sakura     78.0\n",
       "Tenten     78.0\n",
       "Tsunade    98.0\n",
       "Mirui      67.0\n",
       "dtype: float64"
      ]
     },
     "execution_count": 31,
     "metadata": {},
     "output_type": "execute_result"
    }
   ],
   "source": [
    "# Salice head rows\n",
    "# head() with out value gives upper five series only\n",
    "marks.head()"
   ]
  },
  {
   "cell_type": "code",
   "execution_count": 32,
   "metadata": {},
   "outputs": [
    {
     "data": {
      "text/plain": [
       "Hinata    77.0\n",
       "Sakura    78.0\n",
       "dtype: float64"
      ]
     },
     "execution_count": 32,
     "metadata": {},
     "output_type": "execute_result"
    }
   ],
   "source": [
    "# Salice specifics rows\n",
    "# First 2 rows\n",
    " marks.head(2)\n",
    "# or we can also do\n",
    "# ..... marks.head(n=2)"
   ]
  },
  {
   "cell_type": "code",
   "execution_count": 33,
   "metadata": {},
   "outputs": [
    {
     "data": {
      "text/plain": [
       "Kushina    87.0\n",
       "Sasuke     98.0\n",
       "Naruto     98.0\n",
       "Obito      91.0\n",
       "Masashi     NaN\n",
       "dtype: float64"
      ]
     },
     "execution_count": 33,
     "metadata": {},
     "output_type": "execute_result"
    }
   ],
   "source": [
    "# Salice tail rows\n",
    "marks.tail()"
   ]
  },
  {
   "cell_type": "code",
   "execution_count": 34,
   "metadata": {},
   "outputs": [
    {
     "data": {
      "text/plain": [
       "98.0"
      ]
     },
     "execution_count": 34,
     "metadata": {},
     "output_type": "execute_result"
    }
   ],
   "source": [
    "# get specific index value\n",
    "marks['Sasuke']"
   ]
  },
  {
   "cell_type": "code",
   "execution_count": 39,
   "metadata": {},
   "outputs": [
    {
     "data": {
      "text/plain": [
       "Hinata    77.0\n",
       "Naruto    98.0\n",
       "dtype: float64"
      ]
     },
     "execution_count": 39,
     "metadata": {},
     "output_type": "execute_result"
    }
   ],
   "source": [
    "# Multiple index value in series form\n",
    "marks[['Hinata', 'Naruto']]"
   ]
  },
  {
   "cell_type": "code",
   "execution_count": 38,
   "metadata": {},
   "outputs": [
    {
     "data": {
      "text/plain": [
       "Hinata    77.0\n",
       "Naruto    98.0\n",
       "dtype: float64"
      ]
     },
     "execution_count": 38,
     "metadata": {},
     "output_type": "execute_result"
    }
   ],
   "source": [
    "# Also\n",
    "marks[[0,15]]"
   ]
  },
  {
   "cell_type": "code",
   "execution_count": 43,
   "metadata": {},
   "outputs": [
    {
     "data": {
      "text/plain": [
       "Hinata    77.0\n",
       "Sakura    78.0\n",
       "Sasuke    98.0\n",
       "Naruto    98.0\n",
       "dtype: float64"
      ]
     },
     "execution_count": 43,
     "metadata": {},
     "output_type": "execute_result"
    }
   ],
   "source": [
    "# We can also did for this\n",
    "marks.take([0,1,14,15])"
   ]
  },
  {
   "cell_type": "code",
   "execution_count": null,
   "metadata": {},
   "outputs": [],
   "source": []
  }
 ],
 "metadata": {
  "kernelspec": {
   "display_name": "Python 3",
   "language": "python",
   "name": "python3"
  },
  "language_info": {
   "codemirror_mode": {
    "name": "ipython",
    "version": 3
   },
   "file_extension": ".py",
   "mimetype": "text/x-python",
   "name": "python",
   "nbconvert_exporter": "python",
   "pygments_lexer": "ipython3",
   "version": "3.6.6"
  }
 },
 "nbformat": 4,
 "nbformat_minor": 2
}
